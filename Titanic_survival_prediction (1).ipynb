{
 "cells": [
  {
   "cell_type": "code",
   "execution_count": 1,
   "metadata": {
    "id": "4lECTPCSqwyz"
   },
   "outputs": [],
   "source": [
    "#This Machine Learning model will predict the survival possibility of passenger on Titanic"
   ]
  },
  {
   "cell_type": "code",
   "execution_count": 2,
   "metadata": {
    "colab": {
     "base_uri": "https://localhost:8080/"
    },
    "id": "Yv2dM1O3rAt8",
    "outputId": "bf97d08f-918e-4d19-aa54-dbe22094bbf0"
   },
   "outputs": [
    {
     "name": "stdout",
     "output_type": "stream",
     "text": [
      "Requirement already satisfied: tflearn in c:\\users\\ravit\\anaconda3\\envs\\tensorflow_env\\lib\\site-packages (0.5.0)\n",
      "Requirement already satisfied: six in c:\\users\\ravit\\anaconda3\\envs\\tensorflow_env\\lib\\site-packages (from tflearn) (1.16.0)\n",
      "Requirement already satisfied: Pillow in c:\\users\\ravit\\anaconda3\\envs\\tensorflow_env\\lib\\site-packages (from tflearn) (8.4.0)\n",
      "Requirement already satisfied: numpy in c:\\users\\ravit\\anaconda3\\envs\\tensorflow_env\\lib\\site-packages (from tflearn) (1.21.2)\n"
     ]
    }
   ],
   "source": [
    "#Installing tflearn\n",
    "!pip install tflearn"
   ]
  },
  {
   "cell_type": "code",
   "execution_count": 3,
   "metadata": {
    "colab": {
     "base_uri": "https://localhost:8080/"
    },
    "id": "tEq5TCCbsCVJ",
    "outputId": "987d59e8-b89e-4d34-f035-da449f458a34"
   },
   "outputs": [
    {
     "name": "stdout",
     "output_type": "stream",
     "text": [
      "WARNING:tensorflow:From C:\\Users\\ravit\\anaconda3\\envs\\tensorflow_env\\lib\\site-packages\\tensorflow\\python\\compat\\v2_compat.py:96: disable_resource_variables (from tensorflow.python.ops.variable_scope) is deprecated and will be removed in a future version.\n",
      "Instructions for updating:\n",
      "non-resource variables are not supported in the long term\n",
      "curses is not supported on this machine (please install/reinstall curses for an optimal experience)\n"
     ]
    }
   ],
   "source": [
    "#Loading the dataset\n",
    "from __future__ import print_function\n",
    "import numpy as np\n",
    "import tflearn \n",
    "\n",
    "# Download the Titanic dataset\n",
    "from tflearn.datasets import titanic\n",
    "titanic.download_dataset('titanic_dataset.csv') \n",
    "\n",
    "# Load CSV file, indicate that the first column represents labels\n",
    "from tflearn.data_utils import load_csv\n",
    "data, labels = load_csv('titanic_dataset.csv', target_column=0,categorical_labels=True, n_classes=2)\n"
   ]
  },
  {
   "cell_type": "code",
   "execution_count": 4,
   "metadata": {
    "id": "0rC3f_U5t2xp"
   },
   "outputs": [],
   "source": [
    "# Preprocessing function\n",
    "def preprocess(data, columns_ignore):\n",
    "    # Sort by descending id and delete columns\n",
    "    for id in sorted(columns_ignore, reverse=True):\n",
    "        [r.pop(id) for r in data]\n",
    "    for i in range(len(data)):\n",
    "      # Converting 'sex' field to float\n",
    "      data[i][1] = 1. if data[i][1] == 'female' else 0.\n",
    "        # Ignore 'name' and 'ticket' columns\n",
    "    return np.array(data, dtype=np.float32)\n",
    "\n",
    "to_ignore=[1, 6]\n",
    "data = preprocess(data, to_ignore)"
   ]
  },
  {
   "cell_type": "code",
   "execution_count": 5,
   "metadata": {
    "colab": {
     "base_uri": "https://localhost:8080/"
    },
    "id": "eXFwhpLluX4h",
    "outputId": "d08b763e-3eb1-43fe-918c-6324de9328b2"
   },
   "outputs": [
    {
     "name": "stdout",
     "output_type": "stream",
     "text": [
      "WARNING:tensorflow:From C:\\Users\\ravit\\anaconda3\\envs\\tensorflow_env\\lib\\site-packages\\tflearn\\initializations.py:164: calling TruncatedNormal.__init__ (from tensorflow.python.ops.init_ops) with dtype is deprecated and will be removed in a future version.\n",
      "Instructions for updating:\n",
      "Call initializer instance with the dtype argument instead of passing it to the constructor\n"
     ]
    }
   ],
   "source": [
    "# Building neural network model\n",
    "net = tflearn.input_data(shape=[None, 6])\n",
    "net = tflearn.fully_connected(net, 32)\n",
    "net = tflearn.fully_connected(net, 32)\n",
    "net = tflearn.fully_connected(net, 2, activation='softmax')\n",
    "net = tflearn.regression(net)"
   ]
  },
  {
   "cell_type": "code",
   "execution_count": 6,
   "metadata": {
    "colab": {
     "base_uri": "https://localhost:8080/"
    },
    "id": "DdIlfGxUubxh",
    "outputId": "f4ad2069-fa3e-4880-b77f-05711bebef32"
   },
   "outputs": [
    {
     "name": "stdout",
     "output_type": "stream",
     "text": [
      "Training Step: 1639  | total loss: \u001b[1m\u001b[32m0.47825\u001b[0m\u001b[0m | time: 0.198s\n",
      "| Adam | epoch: 020 | loss: 0.47825 - acc: 0.7731 -- iter: 1296/1309\n",
      "Training Step: 1640  | total loss: \u001b[1m\u001b[32m0.48955\u001b[0m\u001b[0m | time: 0.206s\n",
      "| Adam | epoch: 020 | loss: 0.48955 - acc: 0.7708 -- iter: 1309/1309\n",
      "--\n"
     ]
    }
   ],
   "source": [
    "# Define Deep Neural Network model\n",
    "model = tflearn.DNN(net)\n",
    "# Start training (apply gradient descent algorithm)\n",
    "model.fit(data, labels, n_epoch=20, batch_size=16, show_metric=True)"
   ]
  },
  {
   "cell_type": "code",
   "execution_count": 8,
   "metadata": {
    "colab": {
     "base_uri": "https://localhost:8080/"
    },
    "id": "yoWgbf2wum5C",
    "outputId": "9c9d4fcf-b34e-4738-ca60-d7784491c7b0"
   },
   "outputs": [
    {
     "name": "stdout",
     "output_type": "stream",
     "text": [
      "Surviving Rate of Jack Dawson: 0.12871422\n",
      "Surviving Rate of Rose Dewitt Bukater: 0.88797903\n"
     ]
    }
   ],
   "source": [
    "#Creating some hypothetical data\n",
    "jack = [3, 'Jack Dawson', 'male', 20, 0, 0, 'N/A', 50.0000]\n",
    "rose = [1, 'Rose DeWitt Bukater', 'female', 19, 1, 2, 'N/A', 100.0000]\n",
    "# Preprocessing data\n",
    "jack, rose = preprocess([jack, rose], to_ignore)\n",
    "# Predicting surviving chances\n",
    "pred = model.predict([jack, rose])\n",
    "print(\"Surviving Rate of Jack Dawson:\", pred[0][1])\n",
    "print(\"Surviving Rate of Rose Dewitt Bukater:\", pred[1][1])"
   ]
  },
  {
   "cell_type": "code",
   "execution_count": null,
   "metadata": {},
   "outputs": [],
   "source": []
  }
 ],
 "metadata": {
  "colab": {
   "name": "Titanic_survival_prediction.ipynb",
   "provenance": []
  },
  "kernelspec": {
   "display_name": "Python 3 (ipykernel)",
   "language": "python",
   "name": "python3"
  },
  "language_info": {
   "codemirror_mode": {
    "name": "ipython",
    "version": 3
   },
   "file_extension": ".py",
   "mimetype": "text/x-python",
   "name": "python",
   "nbconvert_exporter": "python",
   "pygments_lexer": "ipython3",
   "version": "3.8.12"
  }
 },
 "nbformat": 4,
 "nbformat_minor": 1
}
